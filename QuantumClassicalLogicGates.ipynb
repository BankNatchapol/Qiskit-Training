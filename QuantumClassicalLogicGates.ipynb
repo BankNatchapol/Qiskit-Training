{
 "cells": [
  {
   "cell_type": "code",
   "execution_count": 68,
   "metadata": {
    "collapsed": true
   },
   "outputs": [],
   "source": [
    "from qiskit import *\n",
    "from TOKEN import ACCESS_TOKEN\n",
    "%matplotlib inline"
   ]
  },
  {
   "cell_type": "code",
   "execution_count": 69,
   "outputs": [],
   "source": [
    "# Input bit\n",
    "bit1 = 1\n",
    "bit2 = 0"
   ],
   "metadata": {
    "collapsed": false,
    "pycharm": {
     "name": "#%%\n"
    }
   }
  },
  {
   "cell_type": "markdown",
   "source": [
    "Classical NOT Gate to Quantum NOT Gate"
   ],
   "metadata": {
    "collapsed": false,
    "pycharm": {
     "name": "#%% md\n"
    }
   }
  },
  {
   "cell_type": "markdown",
   "source": [
    "Classical"
   ],
   "metadata": {
    "collapsed": false
   }
  },
  {
   "cell_type": "code",
   "execution_count": 70,
   "outputs": [],
   "source": [
    "def classicalNOT(bit):\n",
    "    assert bit in (0,1),\"Only 0 or 1\"\n",
    "    return 1 + (-1)**bit"
   ],
   "metadata": {
    "collapsed": false,
    "pycharm": {
     "name": "#%%\n"
    }
   }
  },
  {
   "cell_type": "code",
   "execution_count": 71,
   "outputs": [
    {
     "name": "stdout",
     "output_type": "stream",
     "text": [
      "NOT 1 -> 0\n"
     ]
    }
   ],
   "source": [
    "result = classicalNOT(bit1)\n",
    "print(f\"NOT {bit1} -> {result}\")"
   ],
   "metadata": {
    "collapsed": false,
    "pycharm": {
     "name": "#%%\n"
    }
   }
  },
  {
   "cell_type": "markdown",
   "source": [
    "Quantum"
   ],
   "metadata": {
    "collapsed": false
   }
  },
  {
   "cell_type": "code",
   "execution_count": 72,
   "outputs": [],
   "source": [
    "def quantumNOT(bit, backend = 'sim', token = None):\n",
    "    assert bit in (0,1),\"Only 0 or 1\"\n",
    "    quantumBits = 1\n",
    "    classicalBits = 1\n",
    "    NOT = QuantumCircuit(quantumBits, classicalBits)\n",
    "\n",
    "    if bit == 1:\n",
    "        NOT.x(0)\n",
    "    NOT.barrier()\n",
    "\n",
    "\n",
    "    NOT.x(0)\n",
    "\n",
    "\n",
    "    NOT.barrier()\n",
    "    NOT.measure([0], [0])\n",
    "\n",
    "    if backend == 'sim':\n",
    "        sim = Aer.get_backend('qasm_simulator')\n",
    "        result = execute(NOT, backend=sim, shots=1).result()\n",
    "\n",
    "    elif backend == 'real':\n",
    "        IBMQ.save_account(token)\n",
    "        IBMQ.load_account()\n",
    "        # execute on real quantum computer\n",
    "        provider = IBMQ.get_provider('ibm-q')\n",
    "        qcomp = provider.get_backend('ibmq_16_melbourne')\n",
    "        job = execute(NOT, backend=qcomp)\n",
    "        from qiskit.tools.monitor import job_monitor\n",
    "        job_monitor(job) # get quantum computer queues\n",
    "        result = job.result() # get result from real quantum computer\n",
    "\n",
    "    counts = result.get_counts()\n",
    "    return counts, NOT"
   ],
   "metadata": {
    "collapsed": false,
    "pycharm": {
     "name": "#%%\n"
    }
   }
  },
  {
   "cell_type": "code",
   "execution_count": 73,
   "outputs": [
    {
     "name": "stderr",
     "output_type": "stream",
     "text": [
      "configrc.store_credentials:WARNING:2021-01-03 21:34:49,913: Credentials already present. Set overwrite=True to overwrite.\n",
      "C:\\ProgramData\\Anaconda3\\envs\\Qiskit\\lib\\site-packages\\qiskit\\providers\\ibmq\\ibmqfactory.py:192: UserWarning: Timestamps in IBMQ backend properties, jobs, and job results are all now in local time instead of UTC.\n",
      "  warnings.warn('Timestamps in IBMQ backend properties, jobs, and job results '\n",
      "ibmqfactory.load_account:WARNING:2021-01-03 21:34:50,822: Credentials are already in use. The existing account in the session will be replaced.\n"
     ]
    },
    {
     "name": "stdout",
     "output_type": "stream",
     "text": [
      "Job Status: job has successfully run\n"
     ]
    },
    {
     "data": {
      "text/plain": "<Figure size 374.326x144.48 with 1 Axes>",
      "image/png": "[encoded data removed]"
     },
     "execution_count": 73,
     "metadata": {},
     "output_type": "execute_result"
    }
   ],
   "source": [
    "counts, qc = quantumNOT(bit1, backend='real', token = ACCESS_TOKEN)\n",
    "qc.draw(output='mpl')"
   ],
   "metadata": {
    "collapsed": false,
    "pycharm": {
     "name": "#%%\n"
    }
   }
  },
  {
   "cell_type": "code",
   "execution_count": 74,
   "outputs": [
    {
     "name": "stdout",
     "output_type": "stream",
     "text": [
      "NOT 1 -> 0\n"
     ]
    }
   ],
   "source": [
    "result = max(counts, key=counts.get)\n",
    "print(f\"NOT {bit1} -> {result}\")\n"
   ],
   "metadata": {
    "collapsed": false,
    "pycharm": {
     "name": "#%%\n"
    }
   }
  },
  {
   "cell_type": "markdown",
   "source": [
    "Classical AND Gate to Quantum AND Gate"
   ],
   "metadata": {
    "collapsed": false
   }
  },
  {
   "cell_type": "markdown",
   "source": [
    "Classical"
   ],
   "metadata": {
    "collapsed": false
   }
  },
  {
   "cell_type": "code",
   "execution_count": 75,
   "outputs": [],
   "source": [
    "def classicalAND(bit1, bit2):\n",
    "    assert bit1 in (0,1) and bit2 in (0,1),\"Only 0 or 1\"\n",
    "    return bit1 * bit2"
   ],
   "metadata": {
    "collapsed": false,
    "pycharm": {
     "name": "#%%\n"
    }
   }
  },
  {
   "cell_type": "code",
   "execution_count": 76,
   "outputs": [
    {
     "name": "stdout",
     "output_type": "stream",
     "text": [
      "AND (1, 0) -> 0\n"
     ]
    }
   ],
   "source": [
    "result = classicalAND(bit1, bit2)\n",
    "print(f\"AND ({bit1}, {bit2}) -> {result}\")"
   ],
   "metadata": {
    "collapsed": false,
    "pycharm": {
     "name": "#%%\n"
    }
   }
  },
  {
   "cell_type": "markdown",
   "source": [
    "Quantum"
   ],
   "metadata": {
    "collapsed": false
   }
  },
  {
   "cell_type": "code",
   "execution_count": 77,
   "outputs": [],
   "source": [
    "def quantumAND(bit1, bit2, backend = 'sim', token = None):\n",
    "    assert bit1 in (0,1) and bit2 in (0,1),\"Only 0 or 1\"\n",
    "    quantumBits = 3\n",
    "    classicalBits = 1\n",
    "    AND = QuantumCircuit(quantumBits, classicalBits)\n",
    "\n",
    "    if bit1 == 1:\n",
    "        AND.x(0)\n",
    "    if bit2 == 1:\n",
    "        AND.x(1)\n",
    "    AND.barrier()\n",
    "\n",
    "\n",
    "    AND.ccx(0,1,2)\n",
    "\n",
    "\n",
    "    AND.barrier()\n",
    "    AND.measure([2], [0])\n",
    "\n",
    "    if backend == 'sim':\n",
    "        sim = Aer.get_backend('qasm_simulator')\n",
    "        result = execute(AND, backend=sim, shots=1).result()\n",
    "\n",
    "    elif backend == 'real':\n",
    "        IBMQ.save_account(token)\n",
    "        IBMQ.load_account()\n",
    "        # execute on real quantum computer\n",
    "        provider = IBMQ.get_provider('ibm-q')\n",
    "        qcomp = provider.get_backend('ibmq_16_melbourne')\n",
    "        job = execute(AND, backend=qcomp)\n",
    "        from qiskit.tools.monitor import job_monitor\n",
    "        job_monitor(job) # get quantum computer queues\n",
    "        result = job.result() # get result from real quantum computer\n",
    "\n",
    "    counts = result.get_counts()\n",
    "    return counts, AND"
   ],
   "metadata": {
    "collapsed": false,
    "pycharm": {
     "name": "#%%\n"
    }
   }
  },
  {
   "cell_type": "code",
   "execution_count": 78,
   "outputs": [
    {
     "name": "stderr",
     "output_type": "stream",
     "text": [
      "configrc.store_credentials:WARNING:2021-01-03 21:36:12,291: Credentials already present. Set overwrite=True to overwrite.\n",
      "ibmqfactory.load_account:WARNING:2021-01-03 21:36:13,255: Credentials are already in use. The existing account in the session will be replaced.\n"
     ]
    },
    {
     "name": "stdout",
     "output_type": "stream",
     "text": [
      "Job Status: job has successfully run\n"
     ]
    },
    {
     "data": {
      "text/plain": "<Figure size 387.597x264.88 with 1 Axes>",
      "image/png": "[encoded data removed]"
     },
     "execution_count": 78,
     "metadata": {},
     "output_type": "execute_result"
    }
   ],
   "source": [
    "counts, qc = quantumAND(bit1, bit2, backend='real', token = ACCESS_TOKEN)\n",
    "qc.draw(output='mpl')"
   ],
   "metadata": {
    "collapsed": false,
    "pycharm": {
     "name": "#%%\n"
    }
   }
  },
  {
   "cell_type": "code",
   "execution_count": 79,
   "outputs": [
    {
     "name": "stdout",
     "output_type": "stream",
     "text": [
      "AND (1, 0) -> 0\n"
     ]
    }
   ],
   "source": [
    "result = max(counts, key=counts.get)\n",
    "print(f\"AND ({bit1}, {bit2}) -> {result}\")"
   ],
   "metadata": {
    "collapsed": false,
    "pycharm": {
     "name": "#%%\n"
    }
   }
  },
  {
   "cell_type": "markdown",
   "source": [
    "Classical OR Gate to Quantum OR Gate"
   ],
   "metadata": {
    "collapsed": false
   }
  },
  {
   "cell_type": "markdown",
   "source": [
    "Classical"
   ],
   "metadata": {
    "collapsed": false
   }
  },
  {
   "cell_type": "code",
   "execution_count": 80,
   "outputs": [],
   "source": [
    "def classicalOR(bit1, bit2):\n",
    "    assert bit1 in (0,1) and bit2 in (0,1),\"Only 0 or 1\"\n",
    "    return (bit1 + bit2) % 2"
   ],
   "metadata": {
    "collapsed": false,
    "pycharm": {
     "name": "#%%\n"
    }
   }
  },
  {
   "cell_type": "code",
   "execution_count": 81,
   "outputs": [
    {
     "name": "stdout",
     "output_type": "stream",
     "text": [
      "OR (1, 0) -> 1\n"
     ]
    }
   ],
   "source": [
    "result = classicalOR(bit1, bit2)\n",
    "print(f\"OR ({bit1}, {bit2}) -> {result}\")"
   ],
   "metadata": {
    "collapsed": false,
    "pycharm": {
     "name": "#%%\n"
    }
   }
  },
  {
   "cell_type": "markdown",
   "source": [
    "Quantum"
   ],
   "metadata": {
    "collapsed": false
   }
  },
  {
   "cell_type": "code",
   "execution_count": 82,
   "outputs": [],
   "source": [
    "def quantumOR(bit1, bit2, backend = 'sim', token = None):\n",
    "    assert bit1 in (0,1) and bit2 in (0,1),\"Only 0 or 1\"\n",
    "    quantumBits = 3\n",
    "    classicalBits = 1\n",
    "    OR = QuantumCircuit(quantumBits, classicalBits)\n",
    "\n",
    "    if bit1 == 1:\n",
    "        OR.x(0)\n",
    "    if bit2 == 1:\n",
    "        OR.x(1)\n",
    "    OR.barrier()\n",
    "\n",
    "\n",
    "    OR.x(0)\n",
    "    OR.x(1)\n",
    "    OR.x(2)\n",
    "    OR.ccx(0,1,2)\n",
    "    OR.x(0)\n",
    "    OR.x(1)\n",
    "\n",
    "\n",
    "    OR.barrier()\n",
    "    OR.measure([2], [0])\n",
    "\n",
    "    if backend == 'sim':\n",
    "        sim = Aer.get_backend('qasm_simulator')\n",
    "        result = execute(OR, backend=sim, shots=1).result()\n",
    "\n",
    "    elif backend == 'real':\n",
    "        IBMQ.save_account(token)\n",
    "        IBMQ.load_account()\n",
    "        # execute on real quantum computer\n",
    "        provider = IBMQ.get_provider('ibm-q')\n",
    "        qcomp = provider.get_backend('ibmq_16_melbourne')\n",
    "        job = execute(OR, backend=qcomp)\n",
    "        from qiskit.tools.monitor import job_monitor\n",
    "        job_monitor(job) # get quantum computer queues\n",
    "        result = job.result() # get result from real quantum computer\n",
    "\n",
    "    counts = result.get_counts()\n",
    "    return counts, OR"
   ],
   "metadata": {
    "collapsed": false,
    "pycharm": {
     "name": "#%%\n"
    }
   }
  },
  {
   "cell_type": "code",
   "execution_count": 83,
   "outputs": [
    {
     "name": "stderr",
     "output_type": "stream",
     "text": [
      "configrc.store_credentials:WARNING:2021-01-03 21:38:32,985: Credentials already present. Set overwrite=True to overwrite.\n",
      "ibmqfactory.load_account:WARNING:2021-01-03 21:38:33,850: Credentials are already in use. The existing account in the session will be replaced.\n"
     ]
    },
    {
     "name": "stdout",
     "output_type": "stream",
     "text": [
      "Job Status: job has successfully run\n"
     ]
    },
    {
     "data": {
      "text/plain": "<Figure size 507.997x264.88 with 1 Axes>",
      "image/png": "[encoded data removed]"
     },
     "execution_count": 83,
     "metadata": {},
     "output_type": "execute_result"
    }
   ],
   "source": [
    "counts, qc = quantumOR(bit1, bit2, backend='real', token = ACCESS_TOKEN)\n",
    "qc.draw(output='mpl')"
   ],
   "metadata": {
    "collapsed": false,
    "pycharm": {
     "name": "#%%\n"
    }
   }
  },
  {
   "cell_type": "code",
   "execution_count": 84,
   "outputs": [
    {
     "name": "stdout",
     "output_type": "stream",
     "text": [
      "OR (1, 0) -> 1\n"
     ]
    }
   ],
   "source": [
    "result = max(counts, key=counts.get)\n",
    "print(f\"OR ({bit1}, {bit2}) -> {result}\")"
   ],
   "metadata": {
    "collapsed": false,
    "pycharm": {
     "name": "#%%\n"
    }
   }
  },
  {
   "cell_type": "markdown",
   "source": [
    "Classical XOR Gate to Quantum XOR Gate"
   ],
   "metadata": {
    "collapsed": false
   }
  },
  {
   "cell_type": "markdown",
   "source": [
    "Classical"
   ],
   "metadata": {
    "collapsed": false
   }
  },
  {
   "cell_type": "code",
   "execution_count": 85,
   "outputs": [],
   "source": [
    "def classicalXOR(bit1, bit2):\n",
    "    assert bit1 in (0,1) and bit2 in (0,1),\"Only 0 or 1\"\n",
    "    return int(bit1 != bit2)"
   ],
   "metadata": {
    "collapsed": false,
    "pycharm": {
     "name": "#%%\n"
    }
   }
  },
  {
   "cell_type": "code",
   "execution_count": 86,
   "outputs": [
    {
     "name": "stdout",
     "output_type": "stream",
     "text": [
      "XOR (1, 0) -> 1\n"
     ]
    }
   ],
   "source": [
    "result = classicalXOR(bit1, bit2)\n",
    "print(f\"XOR ({bit1}, {bit2}) -> {result}\")"
   ],
   "metadata": {
    "collapsed": false,
    "pycharm": {
     "name": "#%%\n"
    }
   }
  },
  {
   "cell_type": "markdown",
   "source": [
    "Quantum"
   ],
   "metadata": {
    "collapsed": false
   }
  },
  {
   "cell_type": "code",
   "execution_count": 87,
   "outputs": [],
   "source": [
    "def quantumXOR(bit1, bit2, backend = 'sim', token = None):\n",
    "    assert bit1 in (0,1) and bit2 in (0,1),\"Only 0 or 1\"\n",
    "    quantumBits = 2\n",
    "    classicalBits = 1\n",
    "    XOR = QuantumCircuit(quantumBits, classicalBits)\n",
    "\n",
    "    if bit1 == 1:\n",
    "        XOR.x(0)\n",
    "    if bit2 == 1:\n",
    "        XOR.x(1)\n",
    "    XOR.barrier()\n",
    "\n",
    "\n",
    "    XOR.cx(0,1)\n",
    "\n",
    "\n",
    "    XOR.barrier()\n",
    "    XOR.measure([1], [0])\n",
    "\n",
    "    if backend == 'sim':\n",
    "        sim = Aer.get_backend('qasm_simulator')\n",
    "        result = execute(XOR, backend=sim, shots=1).result()\n",
    "\n",
    "    elif backend == 'real':\n",
    "        IBMQ.save_account(token)\n",
    "        IBMQ.load_account()\n",
    "        # execute on real quantum computer\n",
    "        provider = IBMQ.get_provider('ibm-q')\n",
    "        qcomp = provider.get_backend('ibmq_16_melbourne')\n",
    "        job = execute(XOR, backend=qcomp)\n",
    "        from qiskit.tools.monitor import job_monitor\n",
    "        job_monitor(job) # get quantum computer queues\n",
    "        result = job.result() # get result from real quantum computer\n",
    "\n",
    "    counts = result.get_counts()\n",
    "    return counts, XOR"
   ],
   "metadata": {
    "collapsed": false,
    "pycharm": {
     "name": "#%%\n"
    }
   }
  },
  {
   "cell_type": "code",
   "execution_count": 90,
   "outputs": [
    {
     "name": "stderr",
     "output_type": "stream",
     "text": [
      "configrc.store_credentials:WARNING:2021-01-03 21:40:46,999: Credentials already present. Set overwrite=True to overwrite.\n",
      "C:\\ProgramData\\Anaconda3\\envs\\Qiskit\\lib\\site-packages\\qiskit\\providers\\ibmq\\ibmqfactory.py:192: UserWarning: Timestamps in IBMQ backend properties, jobs, and job results are all now in local time instead of UTC.\n",
      "  warnings.warn('Timestamps in IBMQ backend properties, jobs, and job results '\n",
      "ibmqfactory.load_account:WARNING:2021-01-03 21:40:51,275: Credentials are already in use. The existing account in the session will be replaced.\n"
     ]
    },
    {
     "name": "stdout",
     "output_type": "stream",
     "text": [
      "Job Status: job has successfully run\n"
     ]
    },
    {
     "data": {
      "text/plain": "<Figure size 387.452x204.68 with 1 Axes>",
      "image/png": "[encoded data removed]"
     },
     "execution_count": 90,
     "metadata": {},
     "output_type": "execute_result"
    }
   ],
   "source": [
    "counts, qc = quantumXOR(bit1, bit2, backend='real', token = ACCESS_TOKEN)\n",
    "qc.draw(output='mpl')"
   ],
   "metadata": {
    "collapsed": false,
    "pycharm": {
     "name": "#%%\n"
    }
   }
  },
  {
   "cell_type": "code",
   "execution_count": 91,
   "outputs": [
    {
     "name": "stdout",
     "output_type": "stream",
     "text": [
      "XOR (1, 0) -> 1\n"
     ]
    }
   ],
   "source": [
    "result = max(counts, key=counts.get)\n",
    "print(f\"XOR ({bit1}, {bit2}) -> {result}\")"
   ],
   "metadata": {
    "collapsed": false,
    "pycharm": {
     "name": "#%%\n"
    }
   }
  },
  {
   "cell_type": "code",
   "execution_count": null,
   "outputs": [],
   "source": [],
   "metadata": {
    "collapsed": false,
    "pycharm": {
     "name": "#%%\n"
    }
   }
  }
 ],
 "metadata": {
  "kernelspec": {
   "display_name": "Python 3",
   "language": "python",
   "name": "python3"
  },
  "language_info": {
   "codemirror_mode": {
    "name": "ipython",
    "version": 2
   },
   "file_extension": ".py",
   "mimetype": "text/x-python",
   "name": "python",
   "nbconvert_exporter": "python",
   "pygments_lexer": "ipython2",
   "version": "2.7.6"
  }
 },
 "nbformat": 4,
 "nbformat_minor": 0
}